{
  "cells": [
    {
      "cell_type": "markdown",
      "metadata": {
        "id": "GW6bx6JiHL-U"
      },
      "source": [
        "#Importing Libraries"
      ]
    },
    {
      "cell_type": "code",
      "execution_count": 2,
      "metadata": {
        "id": "xxnxhjBhRyvi"
      },
      "outputs": [],
      "source": [
        "import numpy as np\n",
        "import tensorflow as tf\n",
        "from tensorflow.keras.preprocessing.image import ImageDataGenerator\n",
        "import matplotlib.pyplot as plt"
      ]
    },
    {
      "cell_type": "markdown",
      "metadata": {
        "id": "WUU1_XpzHQ_T"
      },
      "source": [
        "#Mounting Drive"
      ]
    },
    {
      "cell_type": "code",
      "execution_count": 2,
      "metadata": {
        "colab": {
          "base_uri": "https://localhost:8080/"
        },
        "id": "xnGxN878SRO3",
        "outputId": "43acc8bc-a663-4a10-ea1f-bb1a788df0b6"
      },
      "outputs": [
        {
          "output_type": "stream",
          "name": "stdout",
          "text": [
            "Drive already mounted at /content/drive; to attempt to forcibly remount, call drive.mount(\"/content/drive\", force_remount=True).\n"
          ]
        }
      ],
      "source": [
        "from google.colab import drive\n",
        "drive.mount('/content/drive')"
      ]
    },
    {
      "cell_type": "markdown",
      "metadata": {
        "id": "ifJ10gQ1IBdL"
      },
      "source": [
        "#Training Image PreProcessing"
      ]
    },
    {
      "cell_type": "code",
      "execution_count": 3,
      "metadata": {
        "colab": {
          "base_uri": "https://localhost:8080/"
        },
        "id": "AkcGuaFWf3Tv",
        "outputId": "1423f752-65aa-41e6-bee5-78bec32c2361"
      },
      "outputs": [
        {
          "output_type": "stream",
          "name": "stdout",
          "text": [
            "Found 3125 files belonging to 36 classes.\n"
          ]
        }
      ],
      "source": [
        "training_set = tf.keras.utils.image_dataset_from_directory(\n",
        "    '/content/drive/MyDrive/Fruits_Vegetables_Detection_project/train',\n",
        "    labels = 'inferred',\n",
        "    label_mode = 'categorical',\n",
        "    class_names = None,\n",
        "    color_mode ='rgb',\n",
        "    batch_size = 32,\n",
        "    image_size = (64,64),\n",
        "    shuffle = True,\n",
        "    seed = None,\n",
        "    validation_split = None,\n",
        "    subset = None,\n",
        "    interpolation = 'bilinear',\n",
        "    follow_links = False,\n",
        "    crop_to_aspect_ratio = False\n",
        ")"
      ]
    },
    {
      "cell_type": "markdown",
      "metadata": {
        "id": "Y_BJ-DVEKu8B"
      },
      "source": [
        "#Validation Image PreProcessing"
      ]
    },
    {
      "cell_type": "code",
      "execution_count": 4,
      "metadata": {
        "colab": {
          "base_uri": "https://localhost:8080/"
        },
        "id": "x1MCmAu8Kx0J",
        "outputId": "0f6ba61a-9d8e-4ca0-f6c7-e2ebed93836b"
      },
      "outputs": [
        {
          "output_type": "stream",
          "name": "stdout",
          "text": [
            "Found 358 files belonging to 36 classes.\n"
          ]
        }
      ],
      "source": [
        "validation_set = tf.keras.utils.image_dataset_from_directory(\n",
        "    '/content/drive/MyDrive/Fruits_Vegetables_Detection_project/validation',\n",
        "    labels=\"inferred\",\n",
        "    label_mode=\"categorical\",\n",
        "    class_names=None,\n",
        "    color_mode=\"rgb\",\n",
        "    batch_size=32,\n",
        "    image_size=(64, 64),\n",
        "    shuffle=True,\n",
        "    seed=None,\n",
        "    validation_split=None,\n",
        "    subset=None,\n",
        "    interpolation=\"bilinear\",\n",
        "    follow_links=False,\n",
        "    crop_to_aspect_ratio=False\n",
        ")"
      ]
    },
    {
      "cell_type": "code",
      "source": [
        "import json\n",
        "labels = training_set.class_names   # <-- this works ONLY here\n",
        "with open(\"labels.json\", \"w\") as f:\n",
        "    json.dump(labels, f)"
      ],
      "metadata": {
        "id": "5O4RJ9WMKJdW"
      },
      "execution_count": 5,
      "outputs": []
    },
    {
      "cell_type": "code",
      "source": [
        "# Normalize pixel values [0,255] -> [0,1]\n",
        "normalization_layer = tf.keras.layers.Rescaling(1./255)\n",
        "\n",
        "training_set = training_set.map(lambda x, y: (normalization_layer(x), y))\n",
        "validation_set = validation_set.map(lambda x, y: (normalization_layer(x), y))\n"
      ],
      "metadata": {
        "id": "zMThUgHUHVf7"
      },
      "execution_count": 6,
      "outputs": []
    },
    {
      "cell_type": "markdown",
      "metadata": {
        "id": "us7aOAtWOpCl"
      },
      "source": [
        "#Convulation Model"
      ]
    },
    {
      "cell_type": "code",
      "source": [
        "cnn = tf.keras.models.Sequential()"
      ],
      "metadata": {
        "id": "H4EF4Q9u19ZF"
      },
      "execution_count": 7,
      "outputs": []
    },
    {
      "cell_type": "markdown",
      "source": [
        "#Building Convulation Layer"
      ],
      "metadata": {
        "id": "2UtxrjM42RTF"
      }
    },
    {
      "cell_type": "code",
      "execution_count": 8,
      "metadata": {
        "colab": {
          "base_uri": "https://localhost:8080/"
        },
        "id": "vZzMCDevOVlY",
        "outputId": "0bd4f79c-91a8-4101-a9fb-190f8f6537e7"
      },
      "outputs": [
        {
          "output_type": "stream",
          "name": "stderr",
          "text": [
            "/usr/local/lib/python3.12/dist-packages/keras/src/layers/convolutional/base_conv.py:113: UserWarning: Do not pass an `input_shape`/`input_dim` argument to a layer. When using Sequential models, prefer using an `Input(shape)` object as the first layer in the model instead.\n",
            "  super().__init__(activity_regularizer=activity_regularizer, **kwargs)\n"
          ]
        }
      ],
      "source": [
        "cnn.add(tf.keras.layers.Conv2D(filters=32, kernel_size=3, activation='relu', input_shape=[64, 64, 3]))\n",
        "cnn.add(tf.keras.layers.Conv2D(filters=32, kernel_size=3, activation='relu'))\n",
        "cnn.add(tf.keras.layers.MaxPool2D(pool_size=2, strides=2))"
      ]
    },
    {
      "cell_type": "code",
      "execution_count": 9,
      "metadata": {
        "id": "O3XivkZ7PhKU"
      },
      "outputs": [],
      "source": [
        "cnn.add(tf.keras.layers.Conv2D(filters=64, kernel_size=3, activation='relu'))\n",
        "cnn.add(tf.keras.layers.Conv2D(filters=64, kernel_size=3, activation='relu'))\n",
        "cnn.add(tf.keras.layers.MaxPool2D(pool_size=2, strides=2))"
      ]
    },
    {
      "cell_type": "code",
      "execution_count": 10,
      "metadata": {
        "id": "6A_ixX8oQDHp"
      },
      "outputs": [],
      "source": [
        "cnn.add(tf.keras.layers.Flatten())"
      ]
    },
    {
      "cell_type": "code",
      "execution_count": 11,
      "metadata": {
        "id": "CaX0hCz_QIgK"
      },
      "outputs": [],
      "source": [
        "cnn.add(tf.keras.layers.Dense(units=512, activation='relu'))"
      ]
    },
    {
      "cell_type": "code",
      "source": [
        "cnn.add(tf.keras.layers.Dense(units=256, activation='relu'))"
      ],
      "metadata": {
        "id": "mwbnSKEWmqrJ"
      },
      "execution_count": 12,
      "outputs": []
    },
    {
      "cell_type": "code",
      "execution_count": 13,
      "metadata": {
        "id": "pzJQPHBnP6ZO"
      },
      "outputs": [],
      "source": [
        "cnn.add(tf.keras.layers.Dropout(0.5)) #We are Droping Some neuron to avoid Overfitting"
      ]
    },
    {
      "cell_type": "markdown",
      "metadata": {
        "id": "p_d4AdiFRIZV"
      },
      "source": [
        "#Output Layer"
      ]
    },
    {
      "cell_type": "code",
      "execution_count": 14,
      "metadata": {
        "id": "Qcjq8kdZQTcw"
      },
      "outputs": [],
      "source": [
        "cnn.add(tf.keras.layers.Dense(units=36, activation='softmax'))"
      ]
    },
    {
      "cell_type": "markdown",
      "metadata": {
        "id": "wNYSyJR6Ru06"
      },
      "source": [
        "#Compiling Phase"
      ]
    },
    {
      "cell_type": "code",
      "execution_count": 15,
      "metadata": {
        "id": "kd1EIZ2oRG-v"
      },
      "outputs": [],
      "source": [
        "cnn.compile(optimizer='adam', loss='categorical_crossentropy', metrics=['accuracy'])"
      ]
    },
    {
      "cell_type": "code",
      "source": [
        "cnn.summary()"
      ],
      "metadata": {
        "colab": {
          "base_uri": "https://localhost:8080/",
          "height": 481
        },
        "id": "tHLOYmJslprz",
        "outputId": "0ad32705-7b1f-49b3-d05f-0ac7baca386b"
      },
      "execution_count": 16,
      "outputs": [
        {
          "output_type": "display_data",
          "data": {
            "text/plain": [
              "\u001b[1mModel: \"sequential\"\u001b[0m\n"
            ],
            "text/html": [
              "<pre style=\"white-space:pre;overflow-x:auto;line-height:normal;font-family:Menlo,'DejaVu Sans Mono',consolas,'Courier New',monospace\"><span style=\"font-weight: bold\">Model: \"sequential\"</span>\n",
              "</pre>\n"
            ]
          },
          "metadata": {}
        },
        {
          "output_type": "display_data",
          "data": {
            "text/plain": [
              "┏━━━━━━━━━━━━━━━━━━━━━━━━━━━━━━━━━┳━━━━━━━━━━━━━━━━━━━━━━━━┳━━━━━━━━━━━━━━━┓\n",
              "┃\u001b[1m \u001b[0m\u001b[1mLayer (type)                   \u001b[0m\u001b[1m \u001b[0m┃\u001b[1m \u001b[0m\u001b[1mOutput Shape          \u001b[0m\u001b[1m \u001b[0m┃\u001b[1m \u001b[0m\u001b[1m      Param #\u001b[0m\u001b[1m \u001b[0m┃\n",
              "┡━━━━━━━━━━━━━━━━━━━━━━━━━━━━━━━━━╇━━━━━━━━━━━━━━━━━━━━━━━━╇━━━━━━━━━━━━━━━┩\n",
              "│ conv2d (\u001b[38;5;33mConv2D\u001b[0m)                 │ (\u001b[38;5;45mNone\u001b[0m, \u001b[38;5;34m62\u001b[0m, \u001b[38;5;34m62\u001b[0m, \u001b[38;5;34m32\u001b[0m)     │           \u001b[38;5;34m896\u001b[0m │\n",
              "├─────────────────────────────────┼────────────────────────┼───────────────┤\n",
              "│ conv2d_1 (\u001b[38;5;33mConv2D\u001b[0m)               │ (\u001b[38;5;45mNone\u001b[0m, \u001b[38;5;34m60\u001b[0m, \u001b[38;5;34m60\u001b[0m, \u001b[38;5;34m32\u001b[0m)     │         \u001b[38;5;34m9,248\u001b[0m │\n",
              "├─────────────────────────────────┼────────────────────────┼───────────────┤\n",
              "│ max_pooling2d (\u001b[38;5;33mMaxPooling2D\u001b[0m)    │ (\u001b[38;5;45mNone\u001b[0m, \u001b[38;5;34m30\u001b[0m, \u001b[38;5;34m30\u001b[0m, \u001b[38;5;34m32\u001b[0m)     │             \u001b[38;5;34m0\u001b[0m │\n",
              "├─────────────────────────────────┼────────────────────────┼───────────────┤\n",
              "│ conv2d_2 (\u001b[38;5;33mConv2D\u001b[0m)               │ (\u001b[38;5;45mNone\u001b[0m, \u001b[38;5;34m28\u001b[0m, \u001b[38;5;34m28\u001b[0m, \u001b[38;5;34m64\u001b[0m)     │        \u001b[38;5;34m18,496\u001b[0m │\n",
              "├─────────────────────────────────┼────────────────────────┼───────────────┤\n",
              "│ conv2d_3 (\u001b[38;5;33mConv2D\u001b[0m)               │ (\u001b[38;5;45mNone\u001b[0m, \u001b[38;5;34m26\u001b[0m, \u001b[38;5;34m26\u001b[0m, \u001b[38;5;34m64\u001b[0m)     │        \u001b[38;5;34m36,928\u001b[0m │\n",
              "├─────────────────────────────────┼────────────────────────┼───────────────┤\n",
              "│ max_pooling2d_1 (\u001b[38;5;33mMaxPooling2D\u001b[0m)  │ (\u001b[38;5;45mNone\u001b[0m, \u001b[38;5;34m13\u001b[0m, \u001b[38;5;34m13\u001b[0m, \u001b[38;5;34m64\u001b[0m)     │             \u001b[38;5;34m0\u001b[0m │\n",
              "├─────────────────────────────────┼────────────────────────┼───────────────┤\n",
              "│ flatten (\u001b[38;5;33mFlatten\u001b[0m)               │ (\u001b[38;5;45mNone\u001b[0m, \u001b[38;5;34m10816\u001b[0m)          │             \u001b[38;5;34m0\u001b[0m │\n",
              "├─────────────────────────────────┼────────────────────────┼───────────────┤\n",
              "│ dense (\u001b[38;5;33mDense\u001b[0m)                   │ (\u001b[38;5;45mNone\u001b[0m, \u001b[38;5;34m512\u001b[0m)            │     \u001b[38;5;34m5,538,304\u001b[0m │\n",
              "├─────────────────────────────────┼────────────────────────┼───────────────┤\n",
              "│ dense_1 (\u001b[38;5;33mDense\u001b[0m)                 │ (\u001b[38;5;45mNone\u001b[0m, \u001b[38;5;34m256\u001b[0m)            │       \u001b[38;5;34m131,328\u001b[0m │\n",
              "├─────────────────────────────────┼────────────────────────┼───────────────┤\n",
              "│ dropout (\u001b[38;5;33mDropout\u001b[0m)               │ (\u001b[38;5;45mNone\u001b[0m, \u001b[38;5;34m256\u001b[0m)            │             \u001b[38;5;34m0\u001b[0m │\n",
              "├─────────────────────────────────┼────────────────────────┼───────────────┤\n",
              "│ dense_2 (\u001b[38;5;33mDense\u001b[0m)                 │ (\u001b[38;5;45mNone\u001b[0m, \u001b[38;5;34m36\u001b[0m)             │         \u001b[38;5;34m9,252\u001b[0m │\n",
              "└─────────────────────────────────┴────────────────────────┴───────────────┘\n"
            ],
            "text/html": [
              "<pre style=\"white-space:pre;overflow-x:auto;line-height:normal;font-family:Menlo,'DejaVu Sans Mono',consolas,'Courier New',monospace\">┏━━━━━━━━━━━━━━━━━━━━━━━━━━━━━━━━━┳━━━━━━━━━━━━━━━━━━━━━━━━┳━━━━━━━━━━━━━━━┓\n",
              "┃<span style=\"font-weight: bold\"> Layer (type)                    </span>┃<span style=\"font-weight: bold\"> Output Shape           </span>┃<span style=\"font-weight: bold\">       Param # </span>┃\n",
              "┡━━━━━━━━━━━━━━━━━━━━━━━━━━━━━━━━━╇━━━━━━━━━━━━━━━━━━━━━━━━╇━━━━━━━━━━━━━━━┩\n",
              "│ conv2d (<span style=\"color: #0087ff; text-decoration-color: #0087ff\">Conv2D</span>)                 │ (<span style=\"color: #00d7ff; text-decoration-color: #00d7ff\">None</span>, <span style=\"color: #00af00; text-decoration-color: #00af00\">62</span>, <span style=\"color: #00af00; text-decoration-color: #00af00\">62</span>, <span style=\"color: #00af00; text-decoration-color: #00af00\">32</span>)     │           <span style=\"color: #00af00; text-decoration-color: #00af00\">896</span> │\n",
              "├─────────────────────────────────┼────────────────────────┼───────────────┤\n",
              "│ conv2d_1 (<span style=\"color: #0087ff; text-decoration-color: #0087ff\">Conv2D</span>)               │ (<span style=\"color: #00d7ff; text-decoration-color: #00d7ff\">None</span>, <span style=\"color: #00af00; text-decoration-color: #00af00\">60</span>, <span style=\"color: #00af00; text-decoration-color: #00af00\">60</span>, <span style=\"color: #00af00; text-decoration-color: #00af00\">32</span>)     │         <span style=\"color: #00af00; text-decoration-color: #00af00\">9,248</span> │\n",
              "├─────────────────────────────────┼────────────────────────┼───────────────┤\n",
              "│ max_pooling2d (<span style=\"color: #0087ff; text-decoration-color: #0087ff\">MaxPooling2D</span>)    │ (<span style=\"color: #00d7ff; text-decoration-color: #00d7ff\">None</span>, <span style=\"color: #00af00; text-decoration-color: #00af00\">30</span>, <span style=\"color: #00af00; text-decoration-color: #00af00\">30</span>, <span style=\"color: #00af00; text-decoration-color: #00af00\">32</span>)     │             <span style=\"color: #00af00; text-decoration-color: #00af00\">0</span> │\n",
              "├─────────────────────────────────┼────────────────────────┼───────────────┤\n",
              "│ conv2d_2 (<span style=\"color: #0087ff; text-decoration-color: #0087ff\">Conv2D</span>)               │ (<span style=\"color: #00d7ff; text-decoration-color: #00d7ff\">None</span>, <span style=\"color: #00af00; text-decoration-color: #00af00\">28</span>, <span style=\"color: #00af00; text-decoration-color: #00af00\">28</span>, <span style=\"color: #00af00; text-decoration-color: #00af00\">64</span>)     │        <span style=\"color: #00af00; text-decoration-color: #00af00\">18,496</span> │\n",
              "├─────────────────────────────────┼────────────────────────┼───────────────┤\n",
              "│ conv2d_3 (<span style=\"color: #0087ff; text-decoration-color: #0087ff\">Conv2D</span>)               │ (<span style=\"color: #00d7ff; text-decoration-color: #00d7ff\">None</span>, <span style=\"color: #00af00; text-decoration-color: #00af00\">26</span>, <span style=\"color: #00af00; text-decoration-color: #00af00\">26</span>, <span style=\"color: #00af00; text-decoration-color: #00af00\">64</span>)     │        <span style=\"color: #00af00; text-decoration-color: #00af00\">36,928</span> │\n",
              "├─────────────────────────────────┼────────────────────────┼───────────────┤\n",
              "│ max_pooling2d_1 (<span style=\"color: #0087ff; text-decoration-color: #0087ff\">MaxPooling2D</span>)  │ (<span style=\"color: #00d7ff; text-decoration-color: #00d7ff\">None</span>, <span style=\"color: #00af00; text-decoration-color: #00af00\">13</span>, <span style=\"color: #00af00; text-decoration-color: #00af00\">13</span>, <span style=\"color: #00af00; text-decoration-color: #00af00\">64</span>)     │             <span style=\"color: #00af00; text-decoration-color: #00af00\">0</span> │\n",
              "├─────────────────────────────────┼────────────────────────┼───────────────┤\n",
              "│ flatten (<span style=\"color: #0087ff; text-decoration-color: #0087ff\">Flatten</span>)               │ (<span style=\"color: #00d7ff; text-decoration-color: #00d7ff\">None</span>, <span style=\"color: #00af00; text-decoration-color: #00af00\">10816</span>)          │             <span style=\"color: #00af00; text-decoration-color: #00af00\">0</span> │\n",
              "├─────────────────────────────────┼────────────────────────┼───────────────┤\n",
              "│ dense (<span style=\"color: #0087ff; text-decoration-color: #0087ff\">Dense</span>)                   │ (<span style=\"color: #00d7ff; text-decoration-color: #00d7ff\">None</span>, <span style=\"color: #00af00; text-decoration-color: #00af00\">512</span>)            │     <span style=\"color: #00af00; text-decoration-color: #00af00\">5,538,304</span> │\n",
              "├─────────────────────────────────┼────────────────────────┼───────────────┤\n",
              "│ dense_1 (<span style=\"color: #0087ff; text-decoration-color: #0087ff\">Dense</span>)                 │ (<span style=\"color: #00d7ff; text-decoration-color: #00d7ff\">None</span>, <span style=\"color: #00af00; text-decoration-color: #00af00\">256</span>)            │       <span style=\"color: #00af00; text-decoration-color: #00af00\">131,328</span> │\n",
              "├─────────────────────────────────┼────────────────────────┼───────────────┤\n",
              "│ dropout (<span style=\"color: #0087ff; text-decoration-color: #0087ff\">Dropout</span>)               │ (<span style=\"color: #00d7ff; text-decoration-color: #00d7ff\">None</span>, <span style=\"color: #00af00; text-decoration-color: #00af00\">256</span>)            │             <span style=\"color: #00af00; text-decoration-color: #00af00\">0</span> │\n",
              "├─────────────────────────────────┼────────────────────────┼───────────────┤\n",
              "│ dense_2 (<span style=\"color: #0087ff; text-decoration-color: #0087ff\">Dense</span>)                 │ (<span style=\"color: #00d7ff; text-decoration-color: #00d7ff\">None</span>, <span style=\"color: #00af00; text-decoration-color: #00af00\">36</span>)             │         <span style=\"color: #00af00; text-decoration-color: #00af00\">9,252</span> │\n",
              "└─────────────────────────────────┴────────────────────────┴───────────────┘\n",
              "</pre>\n"
            ]
          },
          "metadata": {}
        },
        {
          "output_type": "display_data",
          "data": {
            "text/plain": [
              "\u001b[1m Total params: \u001b[0m\u001b[38;5;34m5,744,452\u001b[0m (21.91 MB)\n"
            ],
            "text/html": [
              "<pre style=\"white-space:pre;overflow-x:auto;line-height:normal;font-family:Menlo,'DejaVu Sans Mono',consolas,'Courier New',monospace\"><span style=\"font-weight: bold\"> Total params: </span><span style=\"color: #00af00; text-decoration-color: #00af00\">5,744,452</span> (21.91 MB)\n",
              "</pre>\n"
            ]
          },
          "metadata": {}
        },
        {
          "output_type": "display_data",
          "data": {
            "text/plain": [
              "\u001b[1m Trainable params: \u001b[0m\u001b[38;5;34m5,744,452\u001b[0m (21.91 MB)\n"
            ],
            "text/html": [
              "<pre style=\"white-space:pre;overflow-x:auto;line-height:normal;font-family:Menlo,'DejaVu Sans Mono',consolas,'Courier New',monospace\"><span style=\"font-weight: bold\"> Trainable params: </span><span style=\"color: #00af00; text-decoration-color: #00af00\">5,744,452</span> (21.91 MB)\n",
              "</pre>\n"
            ]
          },
          "metadata": {}
        },
        {
          "output_type": "display_data",
          "data": {
            "text/plain": [
              "\u001b[1m Non-trainable params: \u001b[0m\u001b[38;5;34m0\u001b[0m (0.00 B)\n"
            ],
            "text/html": [
              "<pre style=\"white-space:pre;overflow-x:auto;line-height:normal;font-family:Menlo,'DejaVu Sans Mono',consolas,'Courier New',monospace\"><span style=\"font-weight: bold\"> Non-trainable params: </span><span style=\"color: #00af00; text-decoration-color: #00af00\">0</span> (0.00 B)\n",
              "</pre>\n"
            ]
          },
          "metadata": {}
        }
      ]
    },
    {
      "cell_type": "markdown",
      "metadata": {
        "id": "oxQmq8_Lm0y8"
      },
      "source": [
        "#Training Phase"
      ]
    },
    {
      "cell_type": "code",
      "execution_count": 17,
      "metadata": {
        "colab": {
          "base_uri": "https://localhost:8080/"
        },
        "id": "GJHpZvyKSLHw",
        "outputId": "0733ae3d-0b5d-4f64-f868-a5f54b99237b"
      },
      "outputs": [
        {
          "output_type": "stream",
          "name": "stdout",
          "text": [
            "Epoch 1/32\n",
            "\u001b[1m98/98\u001b[0m \u001b[32m━━━━━━━━━━━━━━━━━━━━\u001b[0m\u001b[37m\u001b[0m \u001b[1m639s\u001b[0m 6s/step - accuracy: 0.0441 - loss: 3.5454 - val_accuracy: 0.1564 - val_loss: 3.1440\n",
            "Epoch 2/32\n",
            "\u001b[1m98/98\u001b[0m \u001b[32m━━━━━━━━━━━━━━━━━━━━\u001b[0m\u001b[37m\u001b[0m \u001b[1m145s\u001b[0m 1s/step - accuracy: 0.0996 - loss: 3.1866 - val_accuracy: 0.2011 - val_loss: 2.5897\n",
            "Epoch 3/32\n",
            "\u001b[1m98/98\u001b[0m \u001b[32m━━━━━━━━━━━━━━━━━━━━\u001b[0m\u001b[37m\u001b[0m \u001b[1m141s\u001b[0m 1s/step - accuracy: 0.1538 - loss: 2.8583 - val_accuracy: 0.3212 - val_loss: 2.1954\n",
            "Epoch 4/32\n",
            "\u001b[1m98/98\u001b[0m \u001b[32m━━━━━━━━━━━━━━━━━━━━\u001b[0m\u001b[37m\u001b[0m \u001b[1m143s\u001b[0m 1s/step - accuracy: 0.2234 - loss: 2.5681 - val_accuracy: 0.4832 - val_loss: 1.7929\n",
            "Epoch 5/32\n",
            "\u001b[1m98/98\u001b[0m \u001b[32m━━━━━━━━━━━━━━━━━━━━\u001b[0m\u001b[37m\u001b[0m \u001b[1m149s\u001b[0m 2s/step - accuracy: 0.3030 - loss: 2.2881 - val_accuracy: 0.5894 - val_loss: 1.4688\n",
            "Epoch 6/32\n",
            "\u001b[1m98/98\u001b[0m \u001b[32m━━━━━━━━━━━━━━━━━━━━\u001b[0m\u001b[37m\u001b[0m \u001b[1m150s\u001b[0m 2s/step - accuracy: 0.3570 - loss: 2.0613 - val_accuracy: 0.6257 - val_loss: 1.2154\n",
            "Epoch 7/32\n",
            "\u001b[1m98/98\u001b[0m \u001b[32m━━━━━━━━━━━━━━━━━━━━\u001b[0m\u001b[37m\u001b[0m \u001b[1m153s\u001b[0m 2s/step - accuracy: 0.4271 - loss: 1.8282 - val_accuracy: 0.6788 - val_loss: 1.0063\n",
            "Epoch 8/32\n",
            "\u001b[1m98/98\u001b[0m \u001b[32m━━━━━━━━━━━━━━━━━━━━\u001b[0m\u001b[37m\u001b[0m \u001b[1m145s\u001b[0m 1s/step - accuracy: 0.5067 - loss: 1.6077 - val_accuracy: 0.8128 - val_loss: 0.6438\n",
            "Epoch 9/32\n",
            "\u001b[1m98/98\u001b[0m \u001b[32m━━━━━━━━━━━━━━━━━━━━\u001b[0m\u001b[37m\u001b[0m \u001b[1m160s\u001b[0m 2s/step - accuracy: 0.6074 - loss: 1.2342 - val_accuracy: 0.8547 - val_loss: 0.5201\n",
            "Epoch 10/32\n",
            "\u001b[1m98/98\u001b[0m \u001b[32m━━━━━━━━━━━━━━━━━━━━\u001b[0m\u001b[37m\u001b[0m \u001b[1m195s\u001b[0m 2s/step - accuracy: 0.6971 - loss: 0.9385 - val_accuracy: 0.8939 - val_loss: 0.3690\n",
            "Epoch 11/32\n",
            "\u001b[1m98/98\u001b[0m \u001b[32m━━━━━━━━━━━━━━━━━━━━\u001b[0m\u001b[37m\u001b[0m \u001b[1m152s\u001b[0m 2s/step - accuracy: 0.7892 - loss: 0.6805 - val_accuracy: 0.8799 - val_loss: 0.4372\n",
            "Epoch 12/32\n",
            "\u001b[1m98/98\u001b[0m \u001b[32m━━━━━━━━━━━━━━━━━━━━\u001b[0m\u001b[37m\u001b[0m \u001b[1m145s\u001b[0m 1s/step - accuracy: 0.8276 - loss: 0.5578 - val_accuracy: 0.9330 - val_loss: 0.3142\n",
            "Epoch 13/32\n",
            "\u001b[1m98/98\u001b[0m \u001b[32m━━━━━━━━━━━━━━━━━━━━\u001b[0m\u001b[37m\u001b[0m \u001b[1m158s\u001b[0m 2s/step - accuracy: 0.8762 - loss: 0.4096 - val_accuracy: 0.9330 - val_loss: 0.2583\n",
            "Epoch 14/32\n",
            "\u001b[1m98/98\u001b[0m \u001b[32m━━━━━━━━━━━━━━━━━━━━\u001b[0m\u001b[37m\u001b[0m \u001b[1m150s\u001b[0m 2s/step - accuracy: 0.8975 - loss: 0.3420 - val_accuracy: 0.9469 - val_loss: 0.2686\n",
            "Epoch 15/32\n",
            "\u001b[1m98/98\u001b[0m \u001b[32m━━━━━━━━━━━━━━━━━━━━\u001b[0m\u001b[37m\u001b[0m \u001b[1m141s\u001b[0m 1s/step - accuracy: 0.9255 - loss: 0.2456 - val_accuracy: 0.9553 - val_loss: 0.2403\n",
            "Epoch 16/32\n",
            "\u001b[1m98/98\u001b[0m \u001b[32m━━━━━━━━━━━━━━━━━━━━\u001b[0m\u001b[37m\u001b[0m \u001b[1m150s\u001b[0m 2s/step - accuracy: 0.9571 - loss: 0.1501 - val_accuracy: 0.9581 - val_loss: 0.2304\n",
            "Epoch 17/32\n",
            "\u001b[1m98/98\u001b[0m \u001b[32m━━━━━━━━━━━━━━━━━━━━\u001b[0m\u001b[37m\u001b[0m \u001b[1m163s\u001b[0m 2s/step - accuracy: 0.9535 - loss: 0.1545 - val_accuracy: 0.9525 - val_loss: 0.2569\n",
            "Epoch 18/32\n",
            "\u001b[1m98/98\u001b[0m \u001b[32m━━━━━━━━━━━━━━━━━━━━\u001b[0m\u001b[37m\u001b[0m \u001b[1m151s\u001b[0m 2s/step - accuracy: 0.9386 - loss: 0.1989 - val_accuracy: 0.9358 - val_loss: 0.2477\n",
            "Epoch 19/32\n",
            "\u001b[1m98/98\u001b[0m \u001b[32m━━━━━━━━━━━━━━━━━━━━\u001b[0m\u001b[37m\u001b[0m \u001b[1m151s\u001b[0m 2s/step - accuracy: 0.9472 - loss: 0.1512 - val_accuracy: 0.9553 - val_loss: 0.2335\n",
            "Epoch 20/32\n",
            "\u001b[1m98/98\u001b[0m \u001b[32m━━━━━━━━━━━━━━━━━━━━\u001b[0m\u001b[37m\u001b[0m \u001b[1m149s\u001b[0m 2s/step - accuracy: 0.9704 - loss: 0.1132 - val_accuracy: 0.9581 - val_loss: 0.2580\n",
            "Epoch 21/32\n",
            "\u001b[1m98/98\u001b[0m \u001b[32m━━━━━━━━━━━━━━━━━━━━\u001b[0m\u001b[37m\u001b[0m \u001b[1m149s\u001b[0m 2s/step - accuracy: 0.9654 - loss: 0.1153 - val_accuracy: 0.9581 - val_loss: 0.2602\n",
            "Epoch 22/32\n",
            "\u001b[1m98/98\u001b[0m \u001b[32m━━━━━━━━━━━━━━━━━━━━\u001b[0m\u001b[37m\u001b[0m \u001b[1m140s\u001b[0m 1s/step - accuracy: 0.9719 - loss: 0.0918 - val_accuracy: 0.9553 - val_loss: 0.2602\n",
            "Epoch 23/32\n",
            "\u001b[1m98/98\u001b[0m \u001b[32m━━━━━━━━━━━━━━━━━━━━\u001b[0m\u001b[37m\u001b[0m \u001b[1m147s\u001b[0m 1s/step - accuracy: 0.9799 - loss: 0.0635 - val_accuracy: 0.9553 - val_loss: 0.2556\n",
            "Epoch 24/32\n",
            "\u001b[1m98/98\u001b[0m \u001b[32m━━━━━━━━━━━━━━━━━━━━\u001b[0m\u001b[37m\u001b[0m \u001b[1m149s\u001b[0m 2s/step - accuracy: 0.9841 - loss: 0.0579 - val_accuracy: 0.9637 - val_loss: 0.2460\n",
            "Epoch 25/32\n",
            "\u001b[1m98/98\u001b[0m \u001b[32m━━━━━━━━━━━━━━━━━━━━\u001b[0m\u001b[37m\u001b[0m \u001b[1m151s\u001b[0m 2s/step - accuracy: 0.9743 - loss: 0.0723 - val_accuracy: 0.9609 - val_loss: 0.2717\n",
            "Epoch 26/32\n",
            "\u001b[1m98/98\u001b[0m \u001b[32m━━━━━━━━━━━━━━━━━━━━\u001b[0m\u001b[37m\u001b[0m \u001b[1m201s\u001b[0m 2s/step - accuracy: 0.9842 - loss: 0.0587 - val_accuracy: 0.9581 - val_loss: 0.3002\n",
            "Epoch 27/32\n",
            "\u001b[1m98/98\u001b[0m \u001b[32m━━━━━━━━━━━━━━━━━━━━\u001b[0m\u001b[37m\u001b[0m \u001b[1m139s\u001b[0m 1s/step - accuracy: 0.9736 - loss: 0.0907 - val_accuracy: 0.9553 - val_loss: 0.2303\n",
            "Epoch 28/32\n",
            "\u001b[1m98/98\u001b[0m \u001b[32m━━━━━━━━━━━━━━━━━━━━\u001b[0m\u001b[37m\u001b[0m \u001b[1m152s\u001b[0m 2s/step - accuracy: 0.9720 - loss: 0.0858 - val_accuracy: 0.9665 - val_loss: 0.2524\n",
            "Epoch 29/32\n",
            "\u001b[1m98/98\u001b[0m \u001b[32m━━━━━━━━━━━━━━━━━━━━\u001b[0m\u001b[37m\u001b[0m \u001b[1m159s\u001b[0m 2s/step - accuracy: 0.9756 - loss: 0.0670 - val_accuracy: 0.9637 - val_loss: 0.2225\n",
            "Epoch 30/32\n",
            "\u001b[1m98/98\u001b[0m \u001b[32m━━━━━━━━━━━━━━━━━━━━\u001b[0m\u001b[37m\u001b[0m \u001b[1m148s\u001b[0m 2s/step - accuracy: 0.9774 - loss: 0.0776 - val_accuracy: 0.9609 - val_loss: 0.2614\n",
            "Epoch 31/32\n",
            "\u001b[1m98/98\u001b[0m \u001b[32m━━━━━━━━━━━━━━━━━━━━\u001b[0m\u001b[37m\u001b[0m \u001b[1m140s\u001b[0m 1s/step - accuracy: 0.9784 - loss: 0.0598 - val_accuracy: 0.9525 - val_loss: 0.2728\n",
            "Epoch 32/32\n",
            "\u001b[1m98/98\u001b[0m \u001b[32m━━━━━━━━━━━━━━━━━━━━\u001b[0m\u001b[37m\u001b[0m \u001b[1m139s\u001b[0m 1s/step - accuracy: 0.9776 - loss: 0.0855 - val_accuracy: 0.9553 - val_loss: 0.2821\n"
          ]
        }
      ],
      "source": [
        "training_history = cnn.fit(x=training_set, validation_data=validation_set, epochs=32)"
      ]
    },
    {
      "cell_type": "markdown",
      "metadata": {
        "id": "a_-P-_oHLSpo"
      },
      "source": [
        "#Saving Model"
      ]
    },
    {
      "cell_type": "code",
      "execution_count": 22,
      "metadata": {
        "id": "sA8Ci5g9Smpi",
        "colab": {
          "base_uri": "https://localhost:8080/"
        },
        "outputId": "1d51be1a-3723-4ee6-af53-5b41ef0f588f"
      },
      "outputs": [
        {
          "output_type": "stream",
          "name": "stderr",
          "text": [
            "WARNING:absl:You are saving your model as an HDF5 file via `model.save()` or `keras.saving.save_model(model)`. This file format is considered legacy. We recommend using instead the native Keras format, e.g. `model.save('my_model.keras')` or `keras.saving.save_model(model, 'my_model.keras')`. \n"
          ]
        }
      ],
      "source": [
        "cnn.save('trained_model.h5')"
      ]
    },
    {
      "cell_type": "code",
      "execution_count": 23,
      "metadata": {
        "id": "cP0kIcM0vPpS",
        "colab": {
          "base_uri": "https://localhost:8080/"
        },
        "outputId": "22d9d3e7-e148-4155-e4a1-41b6abfdb453"
      },
      "outputs": [
        {
          "output_type": "execute_result",
          "data": {
            "text/plain": [
              "{'accuracy': [0.05663999915122986,\n",
              "  0.1120000034570694,\n",
              "  0.1849599927663803,\n",
              "  0.24447999894618988,\n",
              "  0.3190400004386902,\n",
              "  0.3654400110244751,\n",
              "  0.45184001326560974,\n",
              "  0.551360011100769,\n",
              "  0.639680027961731,\n",
              "  0.7123200297355652,\n",
              "  0.8019199967384338,\n",
              "  0.8352000117301941,\n",
              "  0.8796799778938293,\n",
              "  0.8998399972915649,\n",
              "  0.9251199960708618,\n",
              "  0.955839991569519,\n",
              "  0.944320023059845,\n",
              "  0.9500799775123596,\n",
              "  0.958079993724823,\n",
              "  0.9635199904441833,\n",
              "  0.9670400023460388,\n",
              "  0.9715200066566467,\n",
              "  0.9772800207138062,\n",
              "  0.9785599708557129,\n",
              "  0.9721599817276001,\n",
              "  0.9820799827575684,\n",
              "  0.9638400077819824,\n",
              "  0.9750400185585022,\n",
              "  0.9692800045013428,\n",
              "  0.9772800207138062,\n",
              "  0.978879988193512,\n",
              "  0.9728000164031982],\n",
              " 'loss': [3.466752767562866,\n",
              "  3.087926149368286,\n",
              "  2.7486865520477295,\n",
              "  2.492921829223633,\n",
              "  2.2280495166778564,\n",
              "  2.0173895359039307,\n",
              "  1.7435325384140015,\n",
              "  1.4663896560668945,\n",
              "  1.145565390586853,\n",
              "  0.8815209269523621,\n",
              "  0.6380351781845093,\n",
              "  0.5287579894065857,\n",
              "  0.38899919390678406,\n",
              "  0.32842692732810974,\n",
              "  0.24759601056575775,\n",
              "  0.15178458392620087,\n",
              "  0.1982504427433014,\n",
              "  0.16649480164051056,\n",
              "  0.13504080474376678,\n",
              "  0.12948299944400787,\n",
              "  0.11562251299619675,\n",
              "  0.09509593993425369,\n",
              "  0.07266734540462494,\n",
              "  0.07346391677856445,\n",
              "  0.07899542152881622,\n",
              "  0.06536083668470383,\n",
              "  0.12006691098213196,\n",
              "  0.0813148021697998,\n",
              "  0.08900173753499985,\n",
              "  0.0738055408000946,\n",
              "  0.06202518194913864,\n",
              "  0.10340885072946548],\n",
              " 'val_accuracy': [0.15642458200454712,\n",
              "  0.20111732184886932,\n",
              "  0.3212290406227112,\n",
              "  0.4832402169704437,\n",
              "  0.589385449886322,\n",
              "  0.6256983280181885,\n",
              "  0.6787709593772888,\n",
              "  0.8128491640090942,\n",
              "  0.8547486066818237,\n",
              "  0.8938547372817993,\n",
              "  0.8798882961273193,\n",
              "  0.9329608678817749,\n",
              "  0.9329608678817749,\n",
              "  0.9469273686408997,\n",
              "  0.9553072452545166,\n",
              "  0.9581005573272705,\n",
              "  0.9525139927864075,\n",
              "  0.9357541799545288,\n",
              "  0.9553072452545166,\n",
              "  0.9581005573272705,\n",
              "  0.9581005573272705,\n",
              "  0.9553072452545166,\n",
              "  0.9553072452545166,\n",
              "  0.9636871218681335,\n",
              "  0.9608938694000244,\n",
              "  0.9581005573272705,\n",
              "  0.9553072452545166,\n",
              "  0.9664804339408875,\n",
              "  0.9636871218681335,\n",
              "  0.9608938694000244,\n",
              "  0.9525139927864075,\n",
              "  0.9553072452545166],\n",
              " 'val_loss': [3.144024133682251,\n",
              "  2.589724540710449,\n",
              "  2.19539213180542,\n",
              "  1.7928521633148193,\n",
              "  1.4687825441360474,\n",
              "  1.2153780460357666,\n",
              "  1.0063109397888184,\n",
              "  0.6438202857971191,\n",
              "  0.5200710892677307,\n",
              "  0.36899954080581665,\n",
              "  0.43715086579322815,\n",
              "  0.31423792243003845,\n",
              "  0.25826767086982727,\n",
              "  0.2686103880405426,\n",
              "  0.24028925597667694,\n",
              "  0.23035451769828796,\n",
              "  0.2569408416748047,\n",
              "  0.24765153229236603,\n",
              "  0.23349787294864655,\n",
              "  0.25801798701286316,\n",
              "  0.26017600297927856,\n",
              "  0.26017406582832336,\n",
              "  0.25559157133102417,\n",
              "  0.24600639939308167,\n",
              "  0.2716769278049469,\n",
              "  0.3002476990222931,\n",
              "  0.2303454875946045,\n",
              "  0.252360463142395,\n",
              "  0.2225438505411148,\n",
              "  0.2614249885082245,\n",
              "  0.2727600038051605,\n",
              "  0.2821294069290161]}"
            ]
          },
          "metadata": {},
          "execution_count": 23
        }
      ],
      "source": [
        "training_history.history #Return Dictionary of Hsitory"
      ]
    },
    {
      "cell_type": "markdown",
      "metadata": {
        "id": "DHczucEFvEG7"
      },
      "source": [
        "#Recording History in JSON"
      ]
    },
    {
      "cell_type": "code",
      "execution_count": 24,
      "metadata": {
        "id": "fvX_dNxTLhdV"
      },
      "outputs": [],
      "source": [
        "import json\n",
        "with open('training_hist.json', 'w') as f:\n",
        "    json.dump(training_history.history, f)"
      ]
    },
    {
      "cell_type": "code",
      "execution_count": 25,
      "metadata": {
        "id": "nUYyb8627TI0",
        "colab": {
          "base_uri": "https://localhost:8080/"
        },
        "outputId": "1e75ddcc-95bd-42a4-f99c-19da4d31c8d9"
      },
      "outputs": [
        {
          "output_type": "stream",
          "name": "stdout",
          "text": [
            "dict_keys(['accuracy', 'loss', 'val_accuracy', 'val_loss'])\n"
          ]
        }
      ],
      "source": [
        "print(training_history.history.keys())"
      ]
    },
    {
      "cell_type": "markdown",
      "metadata": {
        "id": "ekpS-J157k56"
      },
      "source": [
        "#Calculating Accuracy of Model Achieved on Validation set"
      ]
    },
    {
      "cell_type": "code",
      "execution_count": 26,
      "metadata": {
        "id": "_ACdX2iF7byl",
        "colab": {
          "base_uri": "https://localhost:8080/"
        },
        "outputId": "689d7909-1673-4671-eac8-d1ae63d64bfe"
      },
      "outputs": [
        {
          "output_type": "stream",
          "name": "stdout",
          "text": [
            "Validation set Accuracy: 95.53072452545166 %\n"
          ]
        }
      ],
      "source": [
        "print(\"Validation set Accuracy: {} %\".format(training_history.history['val_accuracy'][-1]* 100))"
      ]
    },
    {
      "cell_type": "markdown",
      "metadata": {
        "id": "Dh0s7Tivhrl8"
      },
      "source": [
        "#Accuracy Vizualization"
      ]
    },
    {
      "cell_type": "markdown",
      "metadata": {
        "id": "5mJwr6_Eh0iu"
      },
      "source": [
        "##Training Visualization"
      ]
    },
    {
      "cell_type": "code",
      "execution_count": 27,
      "metadata": {
        "id": "y_TP6Mw37wJl",
        "colab": {
          "base_uri": "https://localhost:8080/",
          "height": 472
        },
        "outputId": "698753e8-b3b5-40aa-ff9d-f1672e45566b"
      },
      "outputs": [
        {
          "output_type": "display_data",
          "data": {
            "text/plain": [
              "<Figure size 640x480 with 1 Axes>"
            ],
            "image/png": "[encoded data removed]"
          },
          "metadata": {}
        }
      ],
      "source": [
        "epochs = [i for i in range(1, 33)]\n",
        "plt.plot(epochs, training_history.history['accuracy'], color='red')\n",
        "plt.xlabel('No. of Epochs')\n",
        "plt.ylabel('Training Accuracy')\n",
        "plt.title('Visualization of Training Accuracy Result')\n",
        "plt.show()"
      ]
    },
    {
      "cell_type": "markdown",
      "source": [
        "##Validation Accuracy"
      ],
      "metadata": {
        "id": "3A17lZr7Pk6W"
      }
    },
    {
      "cell_type": "code",
      "source": [
        "plt.plot(epochs, training_history.history['val_accuracy'], color='blue')\n",
        "plt.xlabel('No. of Epochs')\n",
        "plt.ylabel('Validation Accuracy')\n",
        "plt.title('Visualization of Validation Accuracy Result')\n",
        "plt.show()"
      ],
      "metadata": {
        "colab": {
          "base_uri": "https://localhost:8080/",
          "height": 472
        },
        "id": "anuYoT8yPqy2",
        "outputId": "a77aa253-2b68-4941-ef75-3c97ce4bc872"
      },
      "execution_count": 28,
      "outputs": [
        {
          "output_type": "display_data",
          "data": {
            "text/plain": [
              "<Figure size 640x480 with 1 Axes>"
            ],
            "image/png": "[encoded data removed]"
          },
          "metadata": {}
        }
      ]
    },
    {
      "cell_type": "markdown",
      "source": [
        "##Keras Model Evaluate"
      ],
      "metadata": {
        "id": "AYxB6Q52om69"
      }
    },
    {
      "cell_type": "code",
      "source": [
        "training_loss, training_accuracy = cnn.evaluate(training_set)"
      ],
      "metadata": {
        "colab": {
          "base_uri": "https://localhost:8080/"
        },
        "id": "zb28MWVIolZx",
        "outputId": "80d37e46-1c52-443f-a252-c410736dfe09"
      },
      "execution_count": 29,
      "outputs": [
        {
          "output_type": "stream",
          "name": "stdout",
          "text": [
            "\u001b[1m98/98\u001b[0m \u001b[32m━━━━━━━━━━━━━━━━━━━━\u001b[0m\u001b[37m\u001b[0m \u001b[1m87s\u001b[0m 888ms/step - accuracy: 0.9787 - loss: 0.0670\n"
          ]
        }
      ]
    },
    {
      "cell_type": "code",
      "source": [
        "validation_loss, validation_accuracy = cnn.evaluate(validation_set)"
      ],
      "metadata": {
        "colab": {
          "base_uri": "https://localhost:8080/"
        },
        "id": "Z34U_12lo6AX",
        "outputId": "2daa7275-e46b-439d-c7a0-a7da248354d6"
      },
      "execution_count": 30,
      "outputs": [
        {
          "output_type": "stream",
          "name": "stdout",
          "text": [
            "\u001b[1m12/12\u001b[0m \u001b[32m━━━━━━━━━━━━━━━━━━━━\u001b[0m\u001b[37m\u001b[0m \u001b[1m11s\u001b[0m 880ms/step - accuracy: 0.9519 - loss: 0.2115\n"
          ]
        }
      ]
    },
    {
      "cell_type": "code",
      "source": [
        "test_set = tf.keras.utils.image_dataset_from_directory(\n",
        "    '/content/drive/MyDrive/Fruits_Vegetables_Detection_project/test',\n",
        "    labels = 'inferred',\n",
        "    label_mode = 'categorical',\n",
        "    class_names = None,\n",
        "    color_mode ='rgb',\n",
        "    batch_size = 32,\n",
        "    image_size = (64,64),\n",
        "    shuffle = True,\n",
        "    seed = None,\n",
        "    validation_split = None,\n",
        "    subset = None,\n",
        "    interpolation = 'bilinear',\n",
        "    follow_links = False,\n",
        "    crop_to_aspect_ratio = False\n",
        ")"
      ],
      "metadata": {
        "colab": {
          "base_uri": "https://localhost:8080/"
        },
        "id": "ABhpGaPyo9M2",
        "outputId": "6972e74e-c8d2-43f8-fb15-a4d7b21ba86a"
      },
      "execution_count": 31,
      "outputs": [
        {
          "output_type": "stream",
          "name": "stdout",
          "text": [
            "Found 359 files belonging to 36 classes.\n"
          ]
        }
      ]
    },
    {
      "cell_type": "code",
      "source": [
        "test_loss, test_accuracy = cnn.evaluate(test_set)"
      ],
      "metadata": {
        "colab": {
          "base_uri": "https://localhost:8080/"
        },
        "id": "MnYyvdQNpIig",
        "outputId": "6fdeeb05-2ca2-46d2-ded0-6a86093493cc"
      },
      "execution_count": 32,
      "outputs": [
        {
          "output_type": "stream",
          "name": "stdout",
          "text": [
            "\u001b[1m12/12\u001b[0m \u001b[32m━━━━━━━━━━━━━━━━━━━━\u001b[0m\u001b[37m\u001b[0m \u001b[1m99s\u001b[0m 8s/step - accuracy: 0.8104 - loss: 224.8115\n"
          ]
        }
      ]
    }
  ],
  "metadata": {
    "colab": {
      "provenance": []
    },
    "kernelspec": {
      "display_name": "Python 3",
      "name": "python3"
    },
    "language_info": {
      "name": "python"
    }
  },
  "nbformat": 4,
  "nbformat_minor": 0
}